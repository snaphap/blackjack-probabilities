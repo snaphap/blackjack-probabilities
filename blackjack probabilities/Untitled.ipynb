{
 "cells": [
  {
   "cell_type": "code",
   "execution_count": 8,
   "id": "aa18be08",
   "metadata": {},
   "outputs": [],
   "source": [
    "from datascience import *\n",
    "import pandas as pd\n",
    "\n",
    "%matplotlib inline\n",
    "import matplotlib.pyplot as plots\n",
    "plots.style.use('fivethirtyeight')\n",
    "\n",
    "from bokeh.plotting import figure, show\n",
    "from bokeh.transform import linear_cmap\n",
    "from bokeh.util.hex import hexbin"
   ]
  },
  {
   "cell_type": "code",
   "execution_count": 73,
   "id": "527b5a0b",
   "metadata": {},
   "outputs": [
    {
     "name": "stdout",
     "output_type": "stream",
     "text": [
      "5\n"
     ]
    },
    {
     "ename": "KeyboardInterrupt",
     "evalue": "",
     "output_type": "error",
     "traceback": [
      "\u001b[1;31m---------------------------------------------------------------------------\u001b[0m",
      "\u001b[1;31mKeyboardInterrupt\u001b[0m                         Traceback (most recent call last)",
      "Cell \u001b[1;32mIn[73], line 17\u001b[0m\n\u001b[0;32m     13\u001b[0m     \u001b[38;5;28;01mreturn\u001b[39;00m \u001b[38;5;241m5\u001b[39m\u001b[38;5;241m*\u001b[39mmath\u001b[38;5;241m.\u001b[39mceil(hands\u001b[38;5;241m/\u001b[39m\u001b[38;5;241m5\u001b[39m)\n\u001b[0;32m     15\u001b[0m \u001b[38;5;28mprint\u001b[39m(handsPlayedToRange(\u001b[38;5;241m4\u001b[39m))\n\u001b[1;32m---> 17\u001b[0m \u001b[38;5;28;01mfor\u001b[39;00m index, row \u001b[38;5;129;01min\u001b[39;00m df\u001b[38;5;241m.\u001b[39miterrows():\n\u001b[0;32m     18\u001b[0m     df\u001b[38;5;241m.\u001b[39mat[index, \u001b[38;5;124m'\u001b[39m\u001b[38;5;124mHands Played\u001b[39m\u001b[38;5;124m'\u001b[39m] \u001b[38;5;241m=\u001b[39m handsPlayedToRange(df\u001b[38;5;241m.\u001b[39mat[index, \u001b[38;5;124m'\u001b[39m\u001b[38;5;124mHands Played\u001b[39m\u001b[38;5;124m'\u001b[39m])\n\u001b[0;32m     20\u001b[0m handsPlayedCounts \u001b[38;5;241m=\u001b[39m \u001b[38;5;28mlist\u001b[39m(\u001b[38;5;28msorted\u001b[39m(df[\u001b[38;5;124m\"\u001b[39m\u001b[38;5;124mHands Played\u001b[39m\u001b[38;5;124m\"\u001b[39m]\u001b[38;5;241m.\u001b[39munique()))\n",
      "File \u001b[1;32m~\\anaconda3\\Lib\\site-packages\\pandas\\core\\frame.py:1400\u001b[0m, in \u001b[0;36mDataFrame.iterrows\u001b[1;34m(self)\u001b[0m\n\u001b[0;32m   1398\u001b[0m using_cow \u001b[38;5;241m=\u001b[39m using_copy_on_write()\n\u001b[0;32m   1399\u001b[0m \u001b[38;5;28;01mfor\u001b[39;00m k, v \u001b[38;5;129;01min\u001b[39;00m \u001b[38;5;28mzip\u001b[39m(\u001b[38;5;28mself\u001b[39m\u001b[38;5;241m.\u001b[39mindex, \u001b[38;5;28mself\u001b[39m\u001b[38;5;241m.\u001b[39mvalues):\n\u001b[1;32m-> 1400\u001b[0m     s \u001b[38;5;241m=\u001b[39m klass(v, index\u001b[38;5;241m=\u001b[39mcolumns, name\u001b[38;5;241m=\u001b[39mk)\u001b[38;5;241m.\u001b[39m__finalize__(\u001b[38;5;28mself\u001b[39m)\n\u001b[0;32m   1401\u001b[0m     \u001b[38;5;28;01mif\u001b[39;00m using_cow \u001b[38;5;129;01mand\u001b[39;00m \u001b[38;5;28mself\u001b[39m\u001b[38;5;241m.\u001b[39m_mgr\u001b[38;5;241m.\u001b[39mis_single_block:\n\u001b[0;32m   1402\u001b[0m         s\u001b[38;5;241m.\u001b[39m_mgr\u001b[38;5;241m.\u001b[39madd_references(\u001b[38;5;28mself\u001b[39m\u001b[38;5;241m.\u001b[39m_mgr)  \u001b[38;5;66;03m# type: ignore[arg-type]\u001b[39;00m\n",
      "File \u001b[1;32m~\\anaconda3\\Lib\\site-packages\\pandas\\core\\series.py:422\u001b[0m, in \u001b[0;36mSeries.__init__\u001b[1;34m(self, data, index, dtype, name, copy, fastpath)\u001b[0m\n\u001b[0;32m    419\u001b[0m \u001b[38;5;28;01mif\u001b[39;00m \u001b[38;5;28misinstance\u001b[39m(data, SingleBlockManager) \u001b[38;5;129;01mand\u001b[39;00m using_copy_on_write() \u001b[38;5;129;01mand\u001b[39;00m \u001b[38;5;129;01mnot\u001b[39;00m copy:\n\u001b[0;32m    420\u001b[0m     data \u001b[38;5;241m=\u001b[39m data\u001b[38;5;241m.\u001b[39mcopy(deep\u001b[38;5;241m=\u001b[39m\u001b[38;5;28;01mFalse\u001b[39;00m)\n\u001b[1;32m--> 422\u001b[0m name \u001b[38;5;241m=\u001b[39m ibase\u001b[38;5;241m.\u001b[39mmaybe_extract_name(name, data, \u001b[38;5;28mtype\u001b[39m(\u001b[38;5;28mself\u001b[39m))\n\u001b[0;32m    424\u001b[0m \u001b[38;5;28;01mif\u001b[39;00m index \u001b[38;5;129;01mis\u001b[39;00m \u001b[38;5;129;01mnot\u001b[39;00m \u001b[38;5;28;01mNone\u001b[39;00m:\n\u001b[0;32m    425\u001b[0m     index \u001b[38;5;241m=\u001b[39m ensure_index(index)\n",
      "File \u001b[1;32m~\\anaconda3\\Lib\\site-packages\\pandas\\core\\indexes\\base.py:7167\u001b[0m, in \u001b[0;36mmaybe_extract_name\u001b[1;34m(name, obj, cls)\u001b[0m\n\u001b[0;32m   7163\u001b[0m     \u001b[38;5;28;01mif\u001b[39;00m method \u001b[38;5;129;01mnot\u001b[39;00m \u001b[38;5;129;01min\u001b[39;00m [\u001b[38;5;124m\"\u001b[39m\u001b[38;5;124mleft\u001b[39m\u001b[38;5;124m\"\u001b[39m, \u001b[38;5;124m\"\u001b[39m\u001b[38;5;124mright\u001b[39m\u001b[38;5;124m\"\u001b[39m, \u001b[38;5;124m\"\u001b[39m\u001b[38;5;124minner\u001b[39m\u001b[38;5;124m\"\u001b[39m, \u001b[38;5;124m\"\u001b[39m\u001b[38;5;124mouter\u001b[39m\u001b[38;5;124m\"\u001b[39m]:\n\u001b[0;32m   7164\u001b[0m         \u001b[38;5;28;01mraise\u001b[39;00m \u001b[38;5;167;01mValueError\u001b[39;00m(\u001b[38;5;124mf\u001b[39m\u001b[38;5;124m\"\u001b[39m\u001b[38;5;124mdo not recognize join method \u001b[39m\u001b[38;5;132;01m{\u001b[39;00mmethod\u001b[38;5;132;01m}\u001b[39;00m\u001b[38;5;124m\"\u001b[39m)\n\u001b[1;32m-> 7167\u001b[0m \u001b[38;5;28;01mdef\u001b[39;00m \u001b[38;5;21mmaybe_extract_name\u001b[39m(name, obj, \u001b[38;5;28mcls\u001b[39m) \u001b[38;5;241m-\u001b[39m\u001b[38;5;241m>\u001b[39m Hashable:\n\u001b[0;32m   7168\u001b[0m \u001b[38;5;250m    \u001b[39m\u001b[38;5;124;03m\"\"\"\u001b[39;00m\n\u001b[0;32m   7169\u001b[0m \u001b[38;5;124;03m    If no name is passed, then extract it from data, validating hashability.\u001b[39;00m\n\u001b[0;32m   7170\u001b[0m \u001b[38;5;124;03m    \"\"\"\u001b[39;00m\n\u001b[0;32m   7171\u001b[0m     \u001b[38;5;28;01mif\u001b[39;00m name \u001b[38;5;129;01mis\u001b[39;00m \u001b[38;5;28;01mNone\u001b[39;00m \u001b[38;5;129;01mand\u001b[39;00m \u001b[38;5;28misinstance\u001b[39m(obj, (Index, ABCSeries)):\n\u001b[0;32m   7172\u001b[0m         \u001b[38;5;66;03m# Note we don't just check for \"name\" attribute since that would\u001b[39;00m\n\u001b[0;32m   7173\u001b[0m         \u001b[38;5;66;03m#  pick up e.g. dtype.name\u001b[39;00m\n",
      "\u001b[1;31mKeyboardInterrupt\u001b[0m: "
     ]
    }
   ],
   "source": [
    "from bokeh.models import ColumnDataSource, Whisker\n",
    "from bokeh.plotting import figure, show\n",
    "from bokeh.sampledata.autompg2 import autompg2 as df\n",
    "from bokeh.transform import factor_cmap, jitter\n",
    "\n",
    "import math\n",
    "\n",
    "df = pd.read_csv('hands played to true count.csv')\n",
    "\n",
    "df.drop(columns = 'Unnamed: 0', inplace = True)\n",
    "\n",
    "def handsPlayedToRange(hands):\n",
    "    return 5*math.ceil(hands/5)\n",
    "\n",
    "print(handsPlayedToRange(4))\n",
    "\n",
    "for index, row in df.iterrows():\n",
    "    df.at[index, 'Hands Played'] = handsPlayedToRange(df.at[index, 'Hands Played'])\n",
    "\n",
    "handsPlayedCounts = list(sorted(df[\"Hands Played\"].unique()))\n",
    "handsPlayedCounts = [str(i) for i in handsPlayedCounts]\n",
    "print(handsPlayedCounts)\n",
    "\n",
    "p = figure(height=400, x_range=handsPlayedCounts, background_fill_color=\"#efefef\",\n",
    "           title=\"JOOGALOOGAS\")\n",
    "\n",
    "p.xgrid.grid_line_color = None\n",
    "\n",
    "g = df.groupby(\"Hands Played\")\n",
    "upper = g.quantile(0.80)\n",
    "lower = g.quantile(0.20)\n",
    "source = ColumnDataSource(data=dict(base=handsPlayedCounts, upper=upper, lower=lower))\n",
    "\n",
    "error = Whisker(base=\"base\", upper=\"upper\", lower=\"lower\", source=source,\n",
    "                level=\"annotation\", line_width=2)\n",
    "error.upper_head.size=20\n",
    "error.lower_head.size=20\n",
    "\n",
    "#p.add_layout(error)\n",
    "\n",
    "p.circle(jitter(\"Hands Played\", 0.3, range=p.x_range), \"True Count\", source=df,\n",
    "         alpha=0.5, size=13, line_color=\"white\",\n",
    "         #color=factor_cmap(\"Hands Played\", \"Light7\", handsPlayedCounts)\n",
    "        )\n",
    "\n",
    "show(p)"
   ]
  },
  {
   "cell_type": "code",
   "execution_count": 61,
   "id": "554873df",
   "metadata": {},
   "outputs": [
    {
     "data": {
      "text/html": [
       "<table border=\"1\" class=\"dataframe\">\n",
       "    <thead>\n",
       "        <tr>\n",
       "            <th>True Count</th> <th>Hands Played</th>\n",
       "        </tr>\n",
       "    </thead>\n",
       "    <tbody>\n",
       "        <tr>\n",
       "            <td>-0.337662 </td> <td>1           </td>\n",
       "        </tr>\n",
       "        <tr>\n",
       "            <td>-0.343234 </td> <td>2           </td>\n",
       "        </tr>\n",
       "        <tr>\n",
       "            <td>-1.04348  </td> <td>3           </td>\n",
       "        </tr>\n",
       "        <tr>\n",
       "            <td>-0.532423 </td> <td>4           </td>\n",
       "        </tr>\n",
       "        <tr>\n",
       "            <td>-0.362369 </td> <td>5           </td>\n",
       "        </tr>\n",
       "        <tr>\n",
       "            <td>0.371429  </td> <td>6           </td>\n",
       "        </tr>\n",
       "        <tr>\n",
       "            <td>0.188406  </td> <td>7           </td>\n",
       "        </tr>\n",
       "        <tr>\n",
       "            <td>-0.382353 </td> <td>8           </td>\n",
       "        </tr>\n",
       "        <tr>\n",
       "            <td>-0.776119 </td> <td>9           </td>\n",
       "        </tr>\n",
       "        <tr>\n",
       "            <td>-0.395437 </td> <td>10          </td>\n",
       "        </tr>\n",
       "    </tbody>\n",
       "</table>\n",
       "<p>... (424670 rows omitted)</p>"
      ],
      "text/plain": [
       "True Count | Hands Played\n",
       "-0.337662  | 1\n",
       "-0.343234  | 2\n",
       "-1.04348   | 3\n",
       "-0.532423  | 4\n",
       "-0.362369  | 5\n",
       "0.371429   | 6\n",
       "0.188406   | 7\n",
       "-0.382353  | 8\n",
       "-0.776119  | 9\n",
       "-0.395437  | 10\n",
       "... (424670 rows omitted)"
      ]
     },
     "execution_count": 61,
     "metadata": {},
     "output_type": "execute_result"
    }
   ],
   "source": [
    "table = Table().read_table('hands played to true count.csv').drop('Unnamed: 0')\n",
    "table"
   ]
  },
  {
   "cell_type": "code",
   "execution_count": 31,
   "id": "e4872879",
   "metadata": {},
   "outputs": [
    {
     "name": "stdout",
     "output_type": "stream",
     "text": [
      "<class 'pandas.core.frame.DataFrame'>\n",
      "     Unnamed: 0 manufacturer   model  displ  year  cyl       trans    drv  \\\n",
      "0             1         Audi      A4    1.8  1999    4    auto(l5)  front   \n",
      "1             2         Audi      A4    1.8  1999    4  manual(m5)  front   \n",
      "2             3         Audi      A4    2.0  2008    4  manual(m6)  front   \n",
      "3             4         Audi      A4    2.0  2008    4    auto(av)  front   \n",
      "4             5         Audi      A4    2.8  1999    6    auto(l5)  front   \n",
      "..          ...          ...     ...    ...   ...  ...         ...    ...   \n",
      "229         230   Volkswagen  Passat    2.0  2008    4    auto(s6)  front   \n",
      "230         231   Volkswagen  Passat    2.0  2008    4  manual(m6)  front   \n",
      "231         232   Volkswagen  Passat    2.8  1999    6    auto(l5)  front   \n",
      "232         233   Volkswagen  Passat    2.8  1999    6  manual(m5)  front   \n",
      "233         234   Volkswagen  Passat    3.6  2008    6    auto(s6)  front   \n",
      "\n",
      "     cty  hwy fl    class  \n",
      "0     18   29  p  compact  \n",
      "1     21   29  p  compact  \n",
      "2     20   31  p  compact  \n",
      "3     21   30  p  compact  \n",
      "4     16   26  p  compact  \n",
      "..   ...  ... ..      ...  \n",
      "229   19   28  p  midsize  \n",
      "230   21   29  p  midsize  \n",
      "231   16   26  p  midsize  \n",
      "232   18   26  p  midsize  \n",
      "233   17   26  p  midsize  \n",
      "\n",
      "[234 rows x 12 columns]\n"
     ]
    },
    {
     "ename": "TypeError",
     "evalue": "'quantile' cannot be performed against 'object' dtypes!",
     "output_type": "error",
     "traceback": [
      "\u001b[1;31m---------------------------------------------------------------------------\u001b[0m",
      "\u001b[1;31mTypeError\u001b[0m                                 Traceback (most recent call last)",
      "Cell \u001b[1;32mIn[31], line 16\u001b[0m\n\u001b[0;32m     13\u001b[0m \u001b[38;5;28mprint\u001b[39m(df)\n\u001b[0;32m     15\u001b[0m g \u001b[38;5;241m=\u001b[39m df\u001b[38;5;241m.\u001b[39mgroupby(\u001b[38;5;124m\"\u001b[39m\u001b[38;5;124mclass\u001b[39m\u001b[38;5;124m\"\u001b[39m)\n\u001b[1;32m---> 16\u001b[0m upper \u001b[38;5;241m=\u001b[39m g\u001b[38;5;241m.\u001b[39mquantile()\n\u001b[0;32m     17\u001b[0m lower \u001b[38;5;241m=\u001b[39m g\u001b[38;5;241m.\u001b[39mquantile()\n\u001b[0;32m     18\u001b[0m \u001b[38;5;28mprint\u001b[39m(upper, lower)\n",
      "File \u001b[1;32m~\\anaconda3\\Lib\\site-packages\\pandas\\core\\groupby\\groupby.py:3303\u001b[0m, in \u001b[0;36mGroupBy.quantile\u001b[1;34m(self, q, interpolation, numeric_only)\u001b[0m\n\u001b[0;32m   3300\u001b[0m     \u001b[38;5;28;01mreturn\u001b[39;00m post_processor(out, inference, result_mask, orig_vals)\n\u001b[0;32m   3302\u001b[0m data \u001b[38;5;241m=\u001b[39m \u001b[38;5;28mself\u001b[39m\u001b[38;5;241m.\u001b[39m_get_data_to_aggregate(numeric_only\u001b[38;5;241m=\u001b[39mnumeric_only, name\u001b[38;5;241m=\u001b[39m\u001b[38;5;124m\"\u001b[39m\u001b[38;5;124mquantile\u001b[39m\u001b[38;5;124m\"\u001b[39m)\n\u001b[1;32m-> 3303\u001b[0m res_mgr \u001b[38;5;241m=\u001b[39m data\u001b[38;5;241m.\u001b[39mgrouped_reduce(blk_func)\n\u001b[0;32m   3305\u001b[0m res \u001b[38;5;241m=\u001b[39m \u001b[38;5;28mself\u001b[39m\u001b[38;5;241m.\u001b[39m_wrap_agged_manager(res_mgr)\n\u001b[0;32m   3307\u001b[0m \u001b[38;5;28;01mif\u001b[39;00m orig_scalar:\n\u001b[0;32m   3308\u001b[0m     \u001b[38;5;66;03m# Avoid expensive MultiIndex construction\u001b[39;00m\n",
      "File \u001b[1;32m~\\anaconda3\\Lib\\site-packages\\pandas\\core\\internals\\managers.py:1503\u001b[0m, in \u001b[0;36mBlockManager.grouped_reduce\u001b[1;34m(self, func)\u001b[0m\n\u001b[0;32m   1499\u001b[0m \u001b[38;5;28;01mif\u001b[39;00m blk\u001b[38;5;241m.\u001b[39mis_object:\n\u001b[0;32m   1500\u001b[0m     \u001b[38;5;66;03m# split on object-dtype blocks bc some columns may raise\u001b[39;00m\n\u001b[0;32m   1501\u001b[0m     \u001b[38;5;66;03m#  while others do not.\u001b[39;00m\n\u001b[0;32m   1502\u001b[0m     \u001b[38;5;28;01mfor\u001b[39;00m sb \u001b[38;5;129;01min\u001b[39;00m blk\u001b[38;5;241m.\u001b[39m_split():\n\u001b[1;32m-> 1503\u001b[0m         applied \u001b[38;5;241m=\u001b[39m sb\u001b[38;5;241m.\u001b[39mapply(func)\n\u001b[0;32m   1504\u001b[0m         result_blocks \u001b[38;5;241m=\u001b[39m extend_blocks(applied, result_blocks)\n\u001b[0;32m   1505\u001b[0m \u001b[38;5;28;01melse\u001b[39;00m:\n",
      "File \u001b[1;32m~\\anaconda3\\Lib\\site-packages\\pandas\\core\\internals\\blocks.py:329\u001b[0m, in \u001b[0;36mBlock.apply\u001b[1;34m(self, func, **kwargs)\u001b[0m\n\u001b[0;32m    323\u001b[0m \u001b[38;5;129m@final\u001b[39m\n\u001b[0;32m    324\u001b[0m \u001b[38;5;28;01mdef\u001b[39;00m \u001b[38;5;21mapply\u001b[39m(\u001b[38;5;28mself\u001b[39m, func, \u001b[38;5;241m*\u001b[39m\u001b[38;5;241m*\u001b[39mkwargs) \u001b[38;5;241m-\u001b[39m\u001b[38;5;241m>\u001b[39m \u001b[38;5;28mlist\u001b[39m[Block]:\n\u001b[0;32m    325\u001b[0m \u001b[38;5;250m    \u001b[39m\u001b[38;5;124;03m\"\"\"\u001b[39;00m\n\u001b[0;32m    326\u001b[0m \u001b[38;5;124;03m    apply the function to my values; return a block if we are not\u001b[39;00m\n\u001b[0;32m    327\u001b[0m \u001b[38;5;124;03m    one\u001b[39;00m\n\u001b[0;32m    328\u001b[0m \u001b[38;5;124;03m    \"\"\"\u001b[39;00m\n\u001b[1;32m--> 329\u001b[0m     result \u001b[38;5;241m=\u001b[39m func(\u001b[38;5;28mself\u001b[39m\u001b[38;5;241m.\u001b[39mvalues, \u001b[38;5;241m*\u001b[39m\u001b[38;5;241m*\u001b[39mkwargs)\n\u001b[0;32m    331\u001b[0m     \u001b[38;5;28;01mreturn\u001b[39;00m \u001b[38;5;28mself\u001b[39m\u001b[38;5;241m.\u001b[39m_split_op_result(result)\n",
      "File \u001b[1;32m~\\anaconda3\\Lib\\site-packages\\pandas\\core\\groupby\\groupby.py:3259\u001b[0m, in \u001b[0;36mGroupBy.quantile.<locals>.blk_func\u001b[1;34m(values)\u001b[0m\n\u001b[0;32m   3255\u001b[0m     result_mask \u001b[38;5;241m=\u001b[39m \u001b[38;5;28;01mNone\u001b[39;00m\n\u001b[0;32m   3257\u001b[0m is_datetimelike \u001b[38;5;241m=\u001b[39m needs_i8_conversion(values\u001b[38;5;241m.\u001b[39mdtype)\n\u001b[1;32m-> 3259\u001b[0m vals, inference \u001b[38;5;241m=\u001b[39m pre_processor(values)\n\u001b[0;32m   3261\u001b[0m ncols \u001b[38;5;241m=\u001b[39m \u001b[38;5;241m1\u001b[39m\n\u001b[0;32m   3262\u001b[0m \u001b[38;5;28;01mif\u001b[39;00m vals\u001b[38;5;241m.\u001b[39mndim \u001b[38;5;241m==\u001b[39m \u001b[38;5;241m2\u001b[39m:\n",
      "File \u001b[1;32m~\\anaconda3\\Lib\\site-packages\\pandas\\core\\groupby\\groupby.py:3146\u001b[0m, in \u001b[0;36mGroupBy.quantile.<locals>.pre_processor\u001b[1;34m(vals)\u001b[0m\n\u001b[0;32m   3144\u001b[0m \u001b[38;5;28;01mdef\u001b[39;00m \u001b[38;5;21mpre_processor\u001b[39m(vals: ArrayLike) \u001b[38;5;241m-\u001b[39m\u001b[38;5;241m>\u001b[39m \u001b[38;5;28mtuple\u001b[39m[np\u001b[38;5;241m.\u001b[39mndarray, DtypeObj \u001b[38;5;241m|\u001b[39m \u001b[38;5;28;01mNone\u001b[39;00m]:\n\u001b[0;32m   3145\u001b[0m     \u001b[38;5;28;01mif\u001b[39;00m is_object_dtype(vals):\n\u001b[1;32m-> 3146\u001b[0m         \u001b[38;5;28;01mraise\u001b[39;00m \u001b[38;5;167;01mTypeError\u001b[39;00m(\n\u001b[0;32m   3147\u001b[0m             \u001b[38;5;124m\"\u001b[39m\u001b[38;5;124m'\u001b[39m\u001b[38;5;124mquantile\u001b[39m\u001b[38;5;124m'\u001b[39m\u001b[38;5;124m cannot be performed against \u001b[39m\u001b[38;5;124m'\u001b[39m\u001b[38;5;124mobject\u001b[39m\u001b[38;5;124m'\u001b[39m\u001b[38;5;124m dtypes!\u001b[39m\u001b[38;5;124m\"\u001b[39m\n\u001b[0;32m   3148\u001b[0m         )\n\u001b[0;32m   3150\u001b[0m     inference: DtypeObj \u001b[38;5;241m|\u001b[39m \u001b[38;5;28;01mNone\u001b[39;00m \u001b[38;5;241m=\u001b[39m \u001b[38;5;28;01mNone\u001b[39;00m\n\u001b[0;32m   3151\u001b[0m     \u001b[38;5;28;01mif\u001b[39;00m \u001b[38;5;28misinstance\u001b[39m(vals, BaseMaskedArray) \u001b[38;5;129;01mand\u001b[39;00m is_numeric_dtype(vals\u001b[38;5;241m.\u001b[39mdtype):\n",
      "\u001b[1;31mTypeError\u001b[0m: 'quantile' cannot be performed against 'object' dtypes!"
     ]
    }
   ],
   "source": [
    "from bokeh.models import ColumnDataSource, Whisker\n",
    "from bokeh.plotting import figure, show\n",
    "from bokeh.sampledata.autompg2 import autompg2 as df\n",
    "from bokeh.transform import factor_cmap, jitter\n",
    "\n",
    "classes = list(sorted(df[\"class\"].unique()))\n",
    "\n",
    "p = figure(height=400, x_range=classes, background_fill_color=\"#efefef\",\n",
    "           title=\"Car class vs HWY mpg with quantile ranges\")\n",
    "p.xgrid.grid_line_color = None\n",
    "\n",
    "print(type(df))\n",
    "print(df)\n",
    "\n",
    "g = df.groupby(\"class\")\n",
    "upper = g.quantile()\n",
    "lower = g.quantile()\n",
    "print(upper, lower)\n",
    "source = ColumnDataSource(data=dict(base=classes, upper=upper, lower=lower))\n",
    "\n",
    "error = Whisker(base=\"base\", upper=\"upper\", lower=\"lower\", source=source,\n",
    "                level=\"annotation\", line_width=2)\n",
    "error.upper_head.size=20\n",
    "error.lower_head.size=20\n",
    "p.add_layout(error)\n",
    "\n",
    "p.circle(jitter(\"class\", 0.3, range=p.x_range), \"hwy\", source=df,\n",
    "         alpha=0.5, size=13, line_color=\"white\",\n",
    "         color=factor_cmap(\"class\", \"Light7\", classes))\n",
    "\n",
    "show(p)"
   ]
  },
  {
   "cell_type": "code",
   "execution_count": 30,
   "id": "8222eb58",
   "metadata": {},
   "outputs": [
    {
     "name": "stdout",
     "output_type": "stream",
     "text": [
      "  key  val\n",
      "0   a    1\n",
      "1   a    2\n",
      "2   a    3\n",
      "3   b    1\n",
      "4   b    3\n",
      "5   b    5\n"
     ]
    },
    {
     "data": {
      "text/html": [
       "<div>\n",
       "<style scoped>\n",
       "    .dataframe tbody tr th:only-of-type {\n",
       "        vertical-align: middle;\n",
       "    }\n",
       "\n",
       "    .dataframe tbody tr th {\n",
       "        vertical-align: top;\n",
       "    }\n",
       "\n",
       "    .dataframe thead th {\n",
       "        text-align: right;\n",
       "    }\n",
       "</style>\n",
       "<table border=\"1\" class=\"dataframe\">\n",
       "  <thead>\n",
       "    <tr style=\"text-align: right;\">\n",
       "      <th></th>\n",
       "      <th>val</th>\n",
       "    </tr>\n",
       "    <tr>\n",
       "      <th>key</th>\n",
       "      <th></th>\n",
       "    </tr>\n",
       "  </thead>\n",
       "  <tbody>\n",
       "    <tr>\n",
       "      <th>a</th>\n",
       "      <td>2.0</td>\n",
       "    </tr>\n",
       "    <tr>\n",
       "      <th>b</th>\n",
       "      <td>3.0</td>\n",
       "    </tr>\n",
       "  </tbody>\n",
       "</table>\n",
       "</div>"
      ],
      "text/plain": [
       "     val\n",
       "key     \n",
       "a    2.0\n",
       "b    3.0"
      ]
     },
     "execution_count": 30,
     "metadata": {},
     "output_type": "execute_result"
    }
   ],
   "source": [
    "df = pd.DataFrame([\n",
    "    ['a', 1], ['a', 2], ['a', 3],\n",
    "    ['b', 1], ['b', 3], ['b', 5]\n",
    "], columns=['key', 'val'])\n",
    "print(df)\n",
    "df.groupby('key').quantile()"
   ]
  },
  {
   "cell_type": "code",
   "execution_count": null,
   "id": "84b36f2d",
   "metadata": {},
   "outputs": [],
   "source": []
  }
 ],
 "metadata": {
  "kernelspec": {
   "display_name": "Python 3 (ipykernel)",
   "language": "python",
   "name": "python3"
  },
  "language_info": {
   "codemirror_mode": {
    "name": "ipython",
    "version": 3
   },
   "file_extension": ".py",
   "mimetype": "text/x-python",
   "name": "python",
   "nbconvert_exporter": "python",
   "pygments_lexer": "ipython3",
   "version": "3.11.5"
  }
 },
 "nbformat": 4,
 "nbformat_minor": 5
}
