{
 "cells": [
  {
   "cell_type": "code",
   "execution_count": 8,
   "id": "aa18be08",
   "metadata": {},
   "outputs": [],
   "source": [
    "from datascience import *\n",
    "import pandas as pd\n",
    "\n",
    "%matplotlib inline\n",
    "import matplotlib.pyplot as plots\n",
    "plots.style.use('fivethirtyeight')\n",
    "\n",
    "from bokeh.plotting import figure, show\n",
    "from bokeh.transform import linear_cmap\n",
    "from bokeh.util.hex import hexbin"
   ]
  },
  {
   "cell_type": "code",
   "execution_count": 53,
   "id": "527b5a0b",
   "metadata": {},
   "outputs": [
    {
     "name": "stdout",
     "output_type": "stream",
     "text": [
      "        True Count  Hands Played\n",
      "0        -0.337662             1\n",
      "1        -0.343234             2\n",
      "2        -1.043478             3\n",
      "3        -0.532423             4\n",
      "4        -0.362369             5\n",
      "...            ...           ...\n",
      "424675   -4.193548            40\n",
      "424676   -2.203390            41\n",
      "424677   -2.280702            42\n",
      "424678   -1.431193            43\n",
      "424679    0.500000            44\n",
      "\n",
      "[424680 rows x 2 columns]\n",
      "['1', '2', '3', '4', '5', '6', '7', '8', '9', '10', '11', '12', '13', '14', '15', '16', '17', '18', '19', '20', '21', '22', '23', '24', '25', '26', '27', '28', '29', '30', '31', '32', '33', '34', '35', '36', '37', '38', '39', '40', '41', '42', '43', '44', '45', '46']\n"
     ]
    },
    {
     "ename": "ValueError",
     "evalue": "failed to validate CategoricalColorMapper(id='p2520', ...).palette: expected an element of Seq(Color), got 'Light44'",
     "output_type": "error",
     "traceback": [
      "\u001b[1;31m---------------------------------------------------------------------------\u001b[0m",
      "\u001b[1;31mValueError\u001b[0m                                Traceback (most recent call last)",
      "Cell \u001b[1;32mIn[53], line 33\u001b[0m\n\u001b[0;32m     28\u001b[0m error\u001b[38;5;241m.\u001b[39mlower_head\u001b[38;5;241m.\u001b[39msize\u001b[38;5;241m=\u001b[39m\u001b[38;5;241m20\u001b[39m\n\u001b[0;32m     29\u001b[0m p\u001b[38;5;241m.\u001b[39madd_layout(error)\n\u001b[0;32m     31\u001b[0m p\u001b[38;5;241m.\u001b[39mcircle(jitter(\u001b[38;5;124m\"\u001b[39m\u001b[38;5;124mHands Played\u001b[39m\u001b[38;5;124m\"\u001b[39m, \u001b[38;5;241m0.3\u001b[39m, \u001b[38;5;28mrange\u001b[39m\u001b[38;5;241m=\u001b[39mp\u001b[38;5;241m.\u001b[39mx_range), \u001b[38;5;124m\"\u001b[39m\u001b[38;5;124mTrue Count\u001b[39m\u001b[38;5;124m\"\u001b[39m, source\u001b[38;5;241m=\u001b[39mdf,\n\u001b[0;32m     32\u001b[0m          alpha\u001b[38;5;241m=\u001b[39m\u001b[38;5;241m0.5\u001b[39m, size\u001b[38;5;241m=\u001b[39m\u001b[38;5;241m13\u001b[39m, line_color\u001b[38;5;241m=\u001b[39m\u001b[38;5;124m\"\u001b[39m\u001b[38;5;124mwhite\u001b[39m\u001b[38;5;124m\"\u001b[39m,\n\u001b[1;32m---> 33\u001b[0m          color\u001b[38;5;241m=\u001b[39mfactor_cmap(\u001b[38;5;124m\"\u001b[39m\u001b[38;5;124mHands Played\u001b[39m\u001b[38;5;124m\"\u001b[39m, \u001b[38;5;124m\"\u001b[39m\u001b[38;5;124mLight44\u001b[39m\u001b[38;5;124m\"\u001b[39m, handsPlayedCounts))\n\u001b[0;32m     35\u001b[0m show(p)\n",
      "File \u001b[1;32m~\\anaconda3\\Lib\\site-packages\\bokeh\\transform.py:201\u001b[0m, in \u001b[0;36mfactor_cmap\u001b[1;34m(field_name, palette, factors, start, end, nan_color)\u001b[0m\n\u001b[0;32m    166\u001b[0m \u001b[38;5;28;01mdef\u001b[39;00m \u001b[38;5;21mfactor_cmap\u001b[39m(\n\u001b[0;32m    167\u001b[0m     field_name: \u001b[38;5;28mstr\u001b[39m,\n\u001b[0;32m    168\u001b[0m     palette: Sequence[ColorLike],\n\u001b[1;32m   (...)\u001b[0m\n\u001b[0;32m    172\u001b[0m     nan_color: ColorLike \u001b[38;5;241m=\u001b[39m \u001b[38;5;124m\"\u001b[39m\u001b[38;5;124mgray\u001b[39m\u001b[38;5;124m\"\u001b[39m,\n\u001b[0;32m    173\u001b[0m ) \u001b[38;5;241m-\u001b[39m\u001b[38;5;241m>\u001b[39m Field:\n\u001b[0;32m    174\u001b[0m \u001b[38;5;250m    \u001b[39m\u001b[38;5;124;03m''' Create a ``DataSpec`` dict that applies a client-side\u001b[39;00m\n\u001b[0;32m    175\u001b[0m \u001b[38;5;124;03m    ``CategoricalColorMapper`` transformation to a ``ColumnDataSource``\u001b[39;00m\n\u001b[0;32m    176\u001b[0m \u001b[38;5;124;03m    column.\u001b[39;00m\n\u001b[1;32m   (...)\u001b[0m\n\u001b[0;32m    197\u001b[0m \n\u001b[0;32m    198\u001b[0m \u001b[38;5;124;03m    '''\u001b[39;00m\n\u001b[0;32m    199\u001b[0m     \u001b[38;5;28;01mreturn\u001b[39;00m Field(\n\u001b[0;32m    200\u001b[0m         field_name,\n\u001b[1;32m--> 201\u001b[0m         CategoricalColorMapper(\n\u001b[0;32m    202\u001b[0m             palette\u001b[38;5;241m=\u001b[39mpalette,\n\u001b[0;32m    203\u001b[0m             factors\u001b[38;5;241m=\u001b[39mfactors,\n\u001b[0;32m    204\u001b[0m             start\u001b[38;5;241m=\u001b[39mstart,\n\u001b[0;32m    205\u001b[0m             end\u001b[38;5;241m=\u001b[39mend,\n\u001b[0;32m    206\u001b[0m             nan_color\u001b[38;5;241m=\u001b[39mnan_color,\n\u001b[0;32m    207\u001b[0m         ),\n\u001b[0;32m    208\u001b[0m     )\n",
      "File \u001b[1;32m~\\anaconda3\\Lib\\site-packages\\bokeh\\models\\mappers.py:160\u001b[0m, in \u001b[0;36mCategoricalColorMapper.__init__\u001b[1;34m(self, *args, **kwargs)\u001b[0m\n\u001b[0;32m    159\u001b[0m \u001b[38;5;28;01mdef\u001b[39;00m \u001b[38;5;21m__init__\u001b[39m(\u001b[38;5;28mself\u001b[39m, \u001b[38;5;241m*\u001b[39margs, \u001b[38;5;241m*\u001b[39m\u001b[38;5;241m*\u001b[39mkwargs) \u001b[38;5;241m-\u001b[39m\u001b[38;5;241m>\u001b[39m \u001b[38;5;28;01mNone\u001b[39;00m:\n\u001b[1;32m--> 160\u001b[0m     \u001b[38;5;28msuper\u001b[39m()\u001b[38;5;241m.\u001b[39m\u001b[38;5;21m__init__\u001b[39m(\u001b[38;5;241m*\u001b[39margs, \u001b[38;5;241m*\u001b[39m\u001b[38;5;241m*\u001b[39mkwargs)\n",
      "File \u001b[1;32m~\\anaconda3\\Lib\\site-packages\\bokeh\\models\\mappers.py:115\u001b[0m, in \u001b[0;36mCategoricalMapper.__init__\u001b[1;34m(self, *args, **kwargs)\u001b[0m\n\u001b[0;32m    114\u001b[0m \u001b[38;5;28;01mdef\u001b[39;00m \u001b[38;5;21m__init__\u001b[39m(\u001b[38;5;28mself\u001b[39m, \u001b[38;5;241m*\u001b[39margs, \u001b[38;5;241m*\u001b[39m\u001b[38;5;241m*\u001b[39mkwargs) \u001b[38;5;241m-\u001b[39m\u001b[38;5;241m>\u001b[39m \u001b[38;5;28;01mNone\u001b[39;00m:\n\u001b[1;32m--> 115\u001b[0m     \u001b[38;5;28msuper\u001b[39m()\u001b[38;5;241m.\u001b[39m\u001b[38;5;21m__init__\u001b[39m(\u001b[38;5;241m*\u001b[39margs, \u001b[38;5;241m*\u001b[39m\u001b[38;5;241m*\u001b[39mkwargs)\n",
      "File \u001b[1;32m~\\anaconda3\\Lib\\site-packages\\bokeh\\models\\mappers.py:93\u001b[0m, in \u001b[0;36mColorMapper.__init__\u001b[1;34m(self, *args, **kwargs)\u001b[0m\n\u001b[0;32m     91\u001b[0m \u001b[38;5;28;01mif\u001b[39;00m \u001b[38;5;28mlen\u001b[39m(args) \u001b[38;5;241m==\u001b[39m \u001b[38;5;241m1\u001b[39m:\n\u001b[0;32m     92\u001b[0m     kwargs[\u001b[38;5;124m'\u001b[39m\u001b[38;5;124mpalette\u001b[39m\u001b[38;5;124m'\u001b[39m] \u001b[38;5;241m=\u001b[39m args[\u001b[38;5;241m0\u001b[39m]\n\u001b[1;32m---> 93\u001b[0m \u001b[38;5;28msuper\u001b[39m()\u001b[38;5;241m.\u001b[39m\u001b[38;5;21m__init__\u001b[39m(\u001b[38;5;241m*\u001b[39m\u001b[38;5;241m*\u001b[39mkwargs)\n",
      "File \u001b[1;32m~\\anaconda3\\Lib\\site-packages\\bokeh\\models\\mappers.py:81\u001b[0m, in \u001b[0;36mMapper.__init__\u001b[1;34m(self, *args, **kwargs)\u001b[0m\n\u001b[0;32m     80\u001b[0m \u001b[38;5;28;01mdef\u001b[39;00m \u001b[38;5;21m__init__\u001b[39m(\u001b[38;5;28mself\u001b[39m, \u001b[38;5;241m*\u001b[39margs, \u001b[38;5;241m*\u001b[39m\u001b[38;5;241m*\u001b[39mkwargs) \u001b[38;5;241m-\u001b[39m\u001b[38;5;241m>\u001b[39m \u001b[38;5;28;01mNone\u001b[39;00m:\n\u001b[1;32m---> 81\u001b[0m     \u001b[38;5;28msuper\u001b[39m()\u001b[38;5;241m.\u001b[39m\u001b[38;5;21m__init__\u001b[39m(\u001b[38;5;241m*\u001b[39margs, \u001b[38;5;241m*\u001b[39m\u001b[38;5;241m*\u001b[39mkwargs)\n",
      "File \u001b[1;32m~\\anaconda3\\Lib\\site-packages\\bokeh\\models\\transforms.py:81\u001b[0m, in \u001b[0;36mTransform.__init__\u001b[1;34m(self, *args, **kwargs)\u001b[0m\n\u001b[0;32m     80\u001b[0m \u001b[38;5;28;01mdef\u001b[39;00m \u001b[38;5;21m__init__\u001b[39m(\u001b[38;5;28mself\u001b[39m, \u001b[38;5;241m*\u001b[39margs, \u001b[38;5;241m*\u001b[39m\u001b[38;5;241m*\u001b[39mkwargs) \u001b[38;5;241m-\u001b[39m\u001b[38;5;241m>\u001b[39m \u001b[38;5;28;01mNone\u001b[39;00m:\n\u001b[1;32m---> 81\u001b[0m     \u001b[38;5;28msuper\u001b[39m()\u001b[38;5;241m.\u001b[39m\u001b[38;5;21m__init__\u001b[39m(\u001b[38;5;241m*\u001b[39margs, \u001b[38;5;241m*\u001b[39m\u001b[38;5;241m*\u001b[39mkwargs)\n",
      "File \u001b[1;32m~\\anaconda3\\Lib\\site-packages\\bokeh\\model\\model.py:110\u001b[0m, in \u001b[0;36mModel.__init__\u001b[1;34m(self, *args, **kwargs)\u001b[0m\n\u001b[0;32m    107\u001b[0m \u001b[38;5;28;01mif\u001b[39;00m \u001b[38;5;124m\"\u001b[39m\u001b[38;5;124mid\u001b[39m\u001b[38;5;124m\"\u001b[39m \u001b[38;5;129;01min\u001b[39;00m kwargs:\n\u001b[0;32m    108\u001b[0m     \u001b[38;5;28;01mraise\u001b[39;00m \u001b[38;5;167;01mValueError\u001b[39;00m(\u001b[38;5;124m\"\u001b[39m\u001b[38;5;124minitializing \u001b[39m\u001b[38;5;124m'\u001b[39m\u001b[38;5;124mid\u001b[39m\u001b[38;5;124m'\u001b[39m\u001b[38;5;124m is not allowed\u001b[39m\u001b[38;5;124m\"\u001b[39m)\n\u001b[1;32m--> 110\u001b[0m \u001b[38;5;28msuper\u001b[39m()\u001b[38;5;241m.\u001b[39m\u001b[38;5;21m__init__\u001b[39m(\u001b[38;5;241m*\u001b[39m\u001b[38;5;241m*\u001b[39mkwargs)\n\u001b[0;32m    111\u001b[0m default_theme\u001b[38;5;241m.\u001b[39mapply_to_model(\u001b[38;5;28mself\u001b[39m)\n",
      "File \u001b[1;32m~\\anaconda3\\Lib\\site-packages\\bokeh\\core\\has_props.py:295\u001b[0m, in \u001b[0;36mHasProps.__init__\u001b[1;34m(self, **properties)\u001b[0m\n\u001b[0;32m    293\u001b[0m     \u001b[38;5;28;01mif\u001b[39;00m value \u001b[38;5;129;01mis\u001b[39;00m Undefined \u001b[38;5;129;01mor\u001b[39;00m value \u001b[38;5;129;01mis\u001b[39;00m Intrinsic:\n\u001b[0;32m    294\u001b[0m         \u001b[38;5;28;01mcontinue\u001b[39;00m\n\u001b[1;32m--> 295\u001b[0m     \u001b[38;5;28msetattr\u001b[39m(\u001b[38;5;28mself\u001b[39m, name, value)\n\u001b[0;32m    297\u001b[0m initialized \u001b[38;5;241m=\u001b[39m \u001b[38;5;28mset\u001b[39m(properties\u001b[38;5;241m.\u001b[39mkeys())\n\u001b[0;32m    298\u001b[0m \u001b[38;5;28;01mfor\u001b[39;00m name \u001b[38;5;129;01min\u001b[39;00m \u001b[38;5;28mself\u001b[39m\u001b[38;5;241m.\u001b[39mproperties(_with_props\u001b[38;5;241m=\u001b[39m\u001b[38;5;28;01mTrue\u001b[39;00m): \u001b[38;5;66;03m# avoid set[] for deterministic behavior\u001b[39;00m\n",
      "File \u001b[1;32m~\\anaconda3\\Lib\\site-packages\\bokeh\\core\\has_props.py:327\u001b[0m, in \u001b[0;36mHasProps.__setattr__\u001b[1;34m(self, name, value)\u001b[0m\n\u001b[0;32m    325\u001b[0m properties \u001b[38;5;241m=\u001b[39m \u001b[38;5;28mself\u001b[39m\u001b[38;5;241m.\u001b[39mproperties(_with_props\u001b[38;5;241m=\u001b[39m\u001b[38;5;28;01mTrue\u001b[39;00m)\n\u001b[0;32m    326\u001b[0m \u001b[38;5;28;01mif\u001b[39;00m name \u001b[38;5;129;01min\u001b[39;00m properties:\n\u001b[1;32m--> 327\u001b[0m     \u001b[38;5;28;01mreturn\u001b[39;00m \u001b[38;5;28msuper\u001b[39m()\u001b[38;5;241m.\u001b[39m\u001b[38;5;21m__setattr__\u001b[39m(name, value)\n\u001b[0;32m    329\u001b[0m descriptor \u001b[38;5;241m=\u001b[39m \u001b[38;5;28mgetattr\u001b[39m(\u001b[38;5;28mself\u001b[39m\u001b[38;5;241m.\u001b[39m\u001b[38;5;18m__class__\u001b[39m, name, \u001b[38;5;28;01mNone\u001b[39;00m)\n\u001b[0;32m    330\u001b[0m \u001b[38;5;28;01mif\u001b[39;00m \u001b[38;5;28misinstance\u001b[39m(descriptor, \u001b[38;5;28mproperty\u001b[39m): \u001b[38;5;66;03m# Python property\u001b[39;00m\n",
      "File \u001b[1;32m~\\anaconda3\\Lib\\site-packages\\bokeh\\core\\property\\descriptors.py:332\u001b[0m, in \u001b[0;36mPropertyDescriptor.__set__\u001b[1;34m(self, obj, value, setter)\u001b[0m\n\u001b[0;32m    329\u001b[0m     class_name \u001b[38;5;241m=\u001b[39m obj\u001b[38;5;241m.\u001b[39m\u001b[38;5;18m__class__\u001b[39m\u001b[38;5;241m.\u001b[39m\u001b[38;5;18m__name__\u001b[39m\n\u001b[0;32m    330\u001b[0m     \u001b[38;5;28;01mraise\u001b[39;00m \u001b[38;5;167;01mRuntimeError\u001b[39;00m(\u001b[38;5;124mf\u001b[39m\u001b[38;5;124m\"\u001b[39m\u001b[38;5;132;01m{\u001b[39;00mclass_name\u001b[38;5;132;01m}\u001b[39;00m\u001b[38;5;124m.\u001b[39m\u001b[38;5;132;01m{\u001b[39;00m\u001b[38;5;28mself\u001b[39m\u001b[38;5;241m.\u001b[39mname\u001b[38;5;132;01m}\u001b[39;00m\u001b[38;5;124m is a readonly property\u001b[39m\u001b[38;5;124m\"\u001b[39m)\n\u001b[1;32m--> 332\u001b[0m value \u001b[38;5;241m=\u001b[39m \u001b[38;5;28mself\u001b[39m\u001b[38;5;241m.\u001b[39mproperty\u001b[38;5;241m.\u001b[39mprepare_value(obj, \u001b[38;5;28mself\u001b[39m\u001b[38;5;241m.\u001b[39mname, value)\n\u001b[0;32m    333\u001b[0m old \u001b[38;5;241m=\u001b[39m \u001b[38;5;28mself\u001b[39m\u001b[38;5;241m.\u001b[39m_get(obj)\n\u001b[0;32m    334\u001b[0m \u001b[38;5;28mself\u001b[39m\u001b[38;5;241m.\u001b[39m_set(obj, old, value, setter\u001b[38;5;241m=\u001b[39msetter)\n",
      "File \u001b[1;32m~\\anaconda3\\Lib\\site-packages\\bokeh\\core\\property\\bases.py:364\u001b[0m, in \u001b[0;36mProperty.prepare_value\u001b[1;34m(self, owner, name, value, hint)\u001b[0m\n\u001b[0;32m    362\u001b[0m \u001b[38;5;28;01melse\u001b[39;00m:\n\u001b[0;32m    363\u001b[0m     obj_repr \u001b[38;5;241m=\u001b[39m owner \u001b[38;5;28;01mif\u001b[39;00m \u001b[38;5;28misinstance\u001b[39m(owner, HasProps) \u001b[38;5;28;01melse\u001b[39;00m owner\u001b[38;5;241m.\u001b[39m\u001b[38;5;18m__name__\u001b[39m\n\u001b[1;32m--> 364\u001b[0m     \u001b[38;5;28;01mraise\u001b[39;00m \u001b[38;5;167;01mValueError\u001b[39;00m(\u001b[38;5;124mf\u001b[39m\u001b[38;5;124m\"\u001b[39m\u001b[38;5;124mfailed to validate \u001b[39m\u001b[38;5;132;01m{\u001b[39;00mobj_repr\u001b[38;5;132;01m}\u001b[39;00m\u001b[38;5;124m.\u001b[39m\u001b[38;5;132;01m{\u001b[39;00mname\u001b[38;5;132;01m}\u001b[39;00m\u001b[38;5;124m: \u001b[39m\u001b[38;5;132;01m{\u001b[39;00merror\u001b[38;5;132;01m}\u001b[39;00m\u001b[38;5;124m\"\u001b[39m)\n\u001b[0;32m    366\u001b[0m \u001b[38;5;28;01mif\u001b[39;00m \u001b[38;5;28misinstance\u001b[39m(owner, HasProps):\n\u001b[0;32m    367\u001b[0m     obj \u001b[38;5;241m=\u001b[39m owner\n",
      "\u001b[1;31mValueError\u001b[0m: failed to validate CategoricalColorMapper(id='p2520', ...).palette: expected an element of Seq(Color), got 'Light44'"
     ]
    }
   ],
   "source": [
    "from bokeh.models import ColumnDataSource, Whisker\n",
    "from bokeh.plotting import figure, show\n",
    "from bokeh.sampledata.autompg2 import autompg2 as df\n",
    "from bokeh.transform import factor_cmap, jitter\n",
    "\n",
    "df = pd.read_csv('hands played to true count.csv')\n",
    "\n",
    "df.drop(columns = 'Unnamed: 0', inplace = True)\n",
    "print(df)\n",
    "\n",
    "handsPlayedCounts = list(sorted(df[\"Hands Played\"].unique()))\n",
    "handsPlayedCounts = [str(i) for i in handsPlayedCounts]\n",
    "print(handsPlayedCounts)\n",
    "\n",
    "p = figure(height=400, x_range=handsPlayedCounts, background_fill_color=\"#efefef\",\n",
    "           title=\"JOOGALOOGAS\")\n",
    "\n",
    "p.xgrid.grid_line_color = None\n",
    "\n",
    "g = df.groupby(\"Hands Played\")\n",
    "upper = g.quantile(0.80)\n",
    "lower = g.quantile(0.20)\n",
    "source = ColumnDataSource(data=dict(base=handsPlayedCounts, upper=upper, lower=lower))\n",
    "\n",
    "error = Whisker(base=\"base\", upper=\"upper\", lower=\"lower\", source=source,\n",
    "                level=\"annotation\", line_width=2)\n",
    "error.upper_head.size=20\n",
    "error.lower_head.size=20\n",
    "p.add_layout(error)\n",
    "\n",
    "p.circle(jitter(\"Hands Played\", 0.3, range=p.x_range), \"True Count\", source=df,\n",
    "         alpha=0.5, size=13, line_color=\"white\",\n",
    "         color=factor_cmap(\"Hands Played\", \"Light7\", handsPlayedCounts))\n",
    "\n",
    "show(p)"
   ]
  },
  {
   "cell_type": "code",
   "execution_count": 11,
   "id": "73f601c4",
   "metadata": {},
   "outputs": [
    {
     "data": {
      "text/html": [
       "<table border=\"1\" class=\"dataframe\">\n",
       "    <thead>\n",
       "        <tr>\n",
       "            <th>True Count</th> <th>Hands Played</th>\n",
       "        </tr>\n",
       "    </thead>\n",
       "    <tbody>\n",
       "        <tr>\n",
       "            <td>-0.337662 </td> <td>1           </td>\n",
       "        </tr>\n",
       "        <tr>\n",
       "            <td>-0.343234 </td> <td>2           </td>\n",
       "        </tr>\n",
       "        <tr>\n",
       "            <td>-1.04348  </td> <td>3           </td>\n",
       "        </tr>\n",
       "        <tr>\n",
       "            <td>-0.532423 </td> <td>4           </td>\n",
       "        </tr>\n",
       "        <tr>\n",
       "            <td>-0.362369 </td> <td>5           </td>\n",
       "        </tr>\n",
       "        <tr>\n",
       "            <td>0.371429  </td> <td>6           </td>\n",
       "        </tr>\n",
       "        <tr>\n",
       "            <td>0.188406  </td> <td>7           </td>\n",
       "        </tr>\n",
       "        <tr>\n",
       "            <td>-0.382353 </td> <td>8           </td>\n",
       "        </tr>\n",
       "        <tr>\n",
       "            <td>-0.776119 </td> <td>9           </td>\n",
       "        </tr>\n",
       "        <tr>\n",
       "            <td>-0.395437 </td> <td>10          </td>\n",
       "        </tr>\n",
       "    </tbody>\n",
       "</table>\n",
       "<p>... (424670 rows omitted)</p>"
      ],
      "text/plain": [
       "True Count | Hands Played\n",
       "-0.337662  | 1\n",
       "-0.343234  | 2\n",
       "-1.04348   | 3\n",
       "-0.532423  | 4\n",
       "-0.362369  | 5\n",
       "0.371429   | 6\n",
       "0.188406   | 7\n",
       "-0.382353  | 8\n",
       "-0.776119  | 9\n",
       "-0.395437  | 10\n",
       "... (424670 rows omitted)"
      ]
     },
     "execution_count": 11,
     "metadata": {},
     "output_type": "execute_result"
    }
   ],
   "source": [
    "table = Table().read_table('hands played to true count.csv').drop('Unnamed: 0')\n",
    "table"
   ]
  },
  {
   "cell_type": "code",
   "execution_count": 31,
   "id": "e4872879",
   "metadata": {},
   "outputs": [
    {
     "name": "stdout",
     "output_type": "stream",
     "text": [
      "<class 'pandas.core.frame.DataFrame'>\n",
      "     Unnamed: 0 manufacturer   model  displ  year  cyl       trans    drv  \\\n",
      "0             1         Audi      A4    1.8  1999    4    auto(l5)  front   \n",
      "1             2         Audi      A4    1.8  1999    4  manual(m5)  front   \n",
      "2             3         Audi      A4    2.0  2008    4  manual(m6)  front   \n",
      "3             4         Audi      A4    2.0  2008    4    auto(av)  front   \n",
      "4             5         Audi      A4    2.8  1999    6    auto(l5)  front   \n",
      "..          ...          ...     ...    ...   ...  ...         ...    ...   \n",
      "229         230   Volkswagen  Passat    2.0  2008    4    auto(s6)  front   \n",
      "230         231   Volkswagen  Passat    2.0  2008    4  manual(m6)  front   \n",
      "231         232   Volkswagen  Passat    2.8  1999    6    auto(l5)  front   \n",
      "232         233   Volkswagen  Passat    2.8  1999    6  manual(m5)  front   \n",
      "233         234   Volkswagen  Passat    3.6  2008    6    auto(s6)  front   \n",
      "\n",
      "     cty  hwy fl    class  \n",
      "0     18   29  p  compact  \n",
      "1     21   29  p  compact  \n",
      "2     20   31  p  compact  \n",
      "3     21   30  p  compact  \n",
      "4     16   26  p  compact  \n",
      "..   ...  ... ..      ...  \n",
      "229   19   28  p  midsize  \n",
      "230   21   29  p  midsize  \n",
      "231   16   26  p  midsize  \n",
      "232   18   26  p  midsize  \n",
      "233   17   26  p  midsize  \n",
      "\n",
      "[234 rows x 12 columns]\n"
     ]
    },
    {
     "ename": "TypeError",
     "evalue": "'quantile' cannot be performed against 'object' dtypes!",
     "output_type": "error",
     "traceback": [
      "\u001b[1;31m---------------------------------------------------------------------------\u001b[0m",
      "\u001b[1;31mTypeError\u001b[0m                                 Traceback (most recent call last)",
      "Cell \u001b[1;32mIn[31], line 16\u001b[0m\n\u001b[0;32m     13\u001b[0m \u001b[38;5;28mprint\u001b[39m(df)\n\u001b[0;32m     15\u001b[0m g \u001b[38;5;241m=\u001b[39m df\u001b[38;5;241m.\u001b[39mgroupby(\u001b[38;5;124m\"\u001b[39m\u001b[38;5;124mclass\u001b[39m\u001b[38;5;124m\"\u001b[39m)\n\u001b[1;32m---> 16\u001b[0m upper \u001b[38;5;241m=\u001b[39m g\u001b[38;5;241m.\u001b[39mquantile()\n\u001b[0;32m     17\u001b[0m lower \u001b[38;5;241m=\u001b[39m g\u001b[38;5;241m.\u001b[39mquantile()\n\u001b[0;32m     18\u001b[0m \u001b[38;5;28mprint\u001b[39m(upper, lower)\n",
      "File \u001b[1;32m~\\anaconda3\\Lib\\site-packages\\pandas\\core\\groupby\\groupby.py:3303\u001b[0m, in \u001b[0;36mGroupBy.quantile\u001b[1;34m(self, q, interpolation, numeric_only)\u001b[0m\n\u001b[0;32m   3300\u001b[0m     \u001b[38;5;28;01mreturn\u001b[39;00m post_processor(out, inference, result_mask, orig_vals)\n\u001b[0;32m   3302\u001b[0m data \u001b[38;5;241m=\u001b[39m \u001b[38;5;28mself\u001b[39m\u001b[38;5;241m.\u001b[39m_get_data_to_aggregate(numeric_only\u001b[38;5;241m=\u001b[39mnumeric_only, name\u001b[38;5;241m=\u001b[39m\u001b[38;5;124m\"\u001b[39m\u001b[38;5;124mquantile\u001b[39m\u001b[38;5;124m\"\u001b[39m)\n\u001b[1;32m-> 3303\u001b[0m res_mgr \u001b[38;5;241m=\u001b[39m data\u001b[38;5;241m.\u001b[39mgrouped_reduce(blk_func)\n\u001b[0;32m   3305\u001b[0m res \u001b[38;5;241m=\u001b[39m \u001b[38;5;28mself\u001b[39m\u001b[38;5;241m.\u001b[39m_wrap_agged_manager(res_mgr)\n\u001b[0;32m   3307\u001b[0m \u001b[38;5;28;01mif\u001b[39;00m orig_scalar:\n\u001b[0;32m   3308\u001b[0m     \u001b[38;5;66;03m# Avoid expensive MultiIndex construction\u001b[39;00m\n",
      "File \u001b[1;32m~\\anaconda3\\Lib\\site-packages\\pandas\\core\\internals\\managers.py:1503\u001b[0m, in \u001b[0;36mBlockManager.grouped_reduce\u001b[1;34m(self, func)\u001b[0m\n\u001b[0;32m   1499\u001b[0m \u001b[38;5;28;01mif\u001b[39;00m blk\u001b[38;5;241m.\u001b[39mis_object:\n\u001b[0;32m   1500\u001b[0m     \u001b[38;5;66;03m# split on object-dtype blocks bc some columns may raise\u001b[39;00m\n\u001b[0;32m   1501\u001b[0m     \u001b[38;5;66;03m#  while others do not.\u001b[39;00m\n\u001b[0;32m   1502\u001b[0m     \u001b[38;5;28;01mfor\u001b[39;00m sb \u001b[38;5;129;01min\u001b[39;00m blk\u001b[38;5;241m.\u001b[39m_split():\n\u001b[1;32m-> 1503\u001b[0m         applied \u001b[38;5;241m=\u001b[39m sb\u001b[38;5;241m.\u001b[39mapply(func)\n\u001b[0;32m   1504\u001b[0m         result_blocks \u001b[38;5;241m=\u001b[39m extend_blocks(applied, result_blocks)\n\u001b[0;32m   1505\u001b[0m \u001b[38;5;28;01melse\u001b[39;00m:\n",
      "File \u001b[1;32m~\\anaconda3\\Lib\\site-packages\\pandas\\core\\internals\\blocks.py:329\u001b[0m, in \u001b[0;36mBlock.apply\u001b[1;34m(self, func, **kwargs)\u001b[0m\n\u001b[0;32m    323\u001b[0m \u001b[38;5;129m@final\u001b[39m\n\u001b[0;32m    324\u001b[0m \u001b[38;5;28;01mdef\u001b[39;00m \u001b[38;5;21mapply\u001b[39m(\u001b[38;5;28mself\u001b[39m, func, \u001b[38;5;241m*\u001b[39m\u001b[38;5;241m*\u001b[39mkwargs) \u001b[38;5;241m-\u001b[39m\u001b[38;5;241m>\u001b[39m \u001b[38;5;28mlist\u001b[39m[Block]:\n\u001b[0;32m    325\u001b[0m \u001b[38;5;250m    \u001b[39m\u001b[38;5;124;03m\"\"\"\u001b[39;00m\n\u001b[0;32m    326\u001b[0m \u001b[38;5;124;03m    apply the function to my values; return a block if we are not\u001b[39;00m\n\u001b[0;32m    327\u001b[0m \u001b[38;5;124;03m    one\u001b[39;00m\n\u001b[0;32m    328\u001b[0m \u001b[38;5;124;03m    \"\"\"\u001b[39;00m\n\u001b[1;32m--> 329\u001b[0m     result \u001b[38;5;241m=\u001b[39m func(\u001b[38;5;28mself\u001b[39m\u001b[38;5;241m.\u001b[39mvalues, \u001b[38;5;241m*\u001b[39m\u001b[38;5;241m*\u001b[39mkwargs)\n\u001b[0;32m    331\u001b[0m     \u001b[38;5;28;01mreturn\u001b[39;00m \u001b[38;5;28mself\u001b[39m\u001b[38;5;241m.\u001b[39m_split_op_result(result)\n",
      "File \u001b[1;32m~\\anaconda3\\Lib\\site-packages\\pandas\\core\\groupby\\groupby.py:3259\u001b[0m, in \u001b[0;36mGroupBy.quantile.<locals>.blk_func\u001b[1;34m(values)\u001b[0m\n\u001b[0;32m   3255\u001b[0m     result_mask \u001b[38;5;241m=\u001b[39m \u001b[38;5;28;01mNone\u001b[39;00m\n\u001b[0;32m   3257\u001b[0m is_datetimelike \u001b[38;5;241m=\u001b[39m needs_i8_conversion(values\u001b[38;5;241m.\u001b[39mdtype)\n\u001b[1;32m-> 3259\u001b[0m vals, inference \u001b[38;5;241m=\u001b[39m pre_processor(values)\n\u001b[0;32m   3261\u001b[0m ncols \u001b[38;5;241m=\u001b[39m \u001b[38;5;241m1\u001b[39m\n\u001b[0;32m   3262\u001b[0m \u001b[38;5;28;01mif\u001b[39;00m vals\u001b[38;5;241m.\u001b[39mndim \u001b[38;5;241m==\u001b[39m \u001b[38;5;241m2\u001b[39m:\n",
      "File \u001b[1;32m~\\anaconda3\\Lib\\site-packages\\pandas\\core\\groupby\\groupby.py:3146\u001b[0m, in \u001b[0;36mGroupBy.quantile.<locals>.pre_processor\u001b[1;34m(vals)\u001b[0m\n\u001b[0;32m   3144\u001b[0m \u001b[38;5;28;01mdef\u001b[39;00m \u001b[38;5;21mpre_processor\u001b[39m(vals: ArrayLike) \u001b[38;5;241m-\u001b[39m\u001b[38;5;241m>\u001b[39m \u001b[38;5;28mtuple\u001b[39m[np\u001b[38;5;241m.\u001b[39mndarray, DtypeObj \u001b[38;5;241m|\u001b[39m \u001b[38;5;28;01mNone\u001b[39;00m]:\n\u001b[0;32m   3145\u001b[0m     \u001b[38;5;28;01mif\u001b[39;00m is_object_dtype(vals):\n\u001b[1;32m-> 3146\u001b[0m         \u001b[38;5;28;01mraise\u001b[39;00m \u001b[38;5;167;01mTypeError\u001b[39;00m(\n\u001b[0;32m   3147\u001b[0m             \u001b[38;5;124m\"\u001b[39m\u001b[38;5;124m'\u001b[39m\u001b[38;5;124mquantile\u001b[39m\u001b[38;5;124m'\u001b[39m\u001b[38;5;124m cannot be performed against \u001b[39m\u001b[38;5;124m'\u001b[39m\u001b[38;5;124mobject\u001b[39m\u001b[38;5;124m'\u001b[39m\u001b[38;5;124m dtypes!\u001b[39m\u001b[38;5;124m\"\u001b[39m\n\u001b[0;32m   3148\u001b[0m         )\n\u001b[0;32m   3150\u001b[0m     inference: DtypeObj \u001b[38;5;241m|\u001b[39m \u001b[38;5;28;01mNone\u001b[39;00m \u001b[38;5;241m=\u001b[39m \u001b[38;5;28;01mNone\u001b[39;00m\n\u001b[0;32m   3151\u001b[0m     \u001b[38;5;28;01mif\u001b[39;00m \u001b[38;5;28misinstance\u001b[39m(vals, BaseMaskedArray) \u001b[38;5;129;01mand\u001b[39;00m is_numeric_dtype(vals\u001b[38;5;241m.\u001b[39mdtype):\n",
      "\u001b[1;31mTypeError\u001b[0m: 'quantile' cannot be performed against 'object' dtypes!"
     ]
    }
   ],
   "source": [
    "from bokeh.models import ColumnDataSource, Whisker\n",
    "from bokeh.plotting import figure, show\n",
    "from bokeh.sampledata.autompg2 import autompg2 as df\n",
    "from bokeh.transform import factor_cmap, jitter\n",
    "\n",
    "classes = list(sorted(df[\"class\"].unique()))\n",
    "\n",
    "p = figure(height=400, x_range=classes, background_fill_color=\"#efefef\",\n",
    "           title=\"Car class vs HWY mpg with quantile ranges\")\n",
    "p.xgrid.grid_line_color = None\n",
    "\n",
    "print(type(df))\n",
    "print(df)\n",
    "\n",
    "g = df.groupby(\"class\")\n",
    "upper = g.quantile()\n",
    "lower = g.quantile()\n",
    "print(upper, lower)\n",
    "source = ColumnDataSource(data=dict(base=classes, upper=upper, lower=lower))\n",
    "\n",
    "error = Whisker(base=\"base\", upper=\"upper\", lower=\"lower\", source=source,\n",
    "                level=\"annotation\", line_width=2)\n",
    "error.upper_head.size=20\n",
    "error.lower_head.size=20\n",
    "p.add_layout(error)\n",
    "\n",
    "p.circle(jitter(\"class\", 0.3, range=p.x_range), \"hwy\", source=df,\n",
    "         alpha=0.5, size=13, line_color=\"white\",\n",
    "         color=factor_cmap(\"class\", \"Light7\", classes))\n",
    "\n",
    "show(p)"
   ]
  },
  {
   "cell_type": "code",
   "execution_count": 30,
   "id": "4c91cfc6",
   "metadata": {},
   "outputs": [
    {
     "name": "stdout",
     "output_type": "stream",
     "text": [
      "  key  val\n",
      "0   a    1\n",
      "1   a    2\n",
      "2   a    3\n",
      "3   b    1\n",
      "4   b    3\n",
      "5   b    5\n"
     ]
    },
    {
     "data": {
      "text/html": [
       "<div>\n",
       "<style scoped>\n",
       "    .dataframe tbody tr th:only-of-type {\n",
       "        vertical-align: middle;\n",
       "    }\n",
       "\n",
       "    .dataframe tbody tr th {\n",
       "        vertical-align: top;\n",
       "    }\n",
       "\n",
       "    .dataframe thead th {\n",
       "        text-align: right;\n",
       "    }\n",
       "</style>\n",
       "<table border=\"1\" class=\"dataframe\">\n",
       "  <thead>\n",
       "    <tr style=\"text-align: right;\">\n",
       "      <th></th>\n",
       "      <th>val</th>\n",
       "    </tr>\n",
       "    <tr>\n",
       "      <th>key</th>\n",
       "      <th></th>\n",
       "    </tr>\n",
       "  </thead>\n",
       "  <tbody>\n",
       "    <tr>\n",
       "      <th>a</th>\n",
       "      <td>2.0</td>\n",
       "    </tr>\n",
       "    <tr>\n",
       "      <th>b</th>\n",
       "      <td>3.0</td>\n",
       "    </tr>\n",
       "  </tbody>\n",
       "</table>\n",
       "</div>"
      ],
      "text/plain": [
       "     val\n",
       "key     \n",
       "a    2.0\n",
       "b    3.0"
      ]
     },
     "execution_count": 30,
     "metadata": {},
     "output_type": "execute_result"
    }
   ],
   "source": [
    "df = pd.DataFrame([\n",
    "    ['a', 1], ['a', 2], ['a', 3],\n",
    "    ['b', 1], ['b', 3], ['b', 5]\n",
    "], columns=['key', 'val'])\n",
    "print(df)\n",
    "df.groupby('key').quantile()"
   ]
  },
  {
   "cell_type": "code",
   "execution_count": null,
   "id": "e07436e9",
   "metadata": {},
   "outputs": [],
   "source": []
  }
 ],
 "metadata": {
  "kernelspec": {
   "display_name": "Python 3 (ipykernel)",
   "language": "python",
   "name": "python3"
  },
  "language_info": {
   "codemirror_mode": {
    "name": "ipython",
    "version": 3
   },
   "file_extension": ".py",
   "mimetype": "text/x-python",
   "name": "python",
   "nbconvert_exporter": "python",
   "pygments_lexer": "ipython3",
   "version": "3.11.5"
  }
 },
 "nbformat": 4,
 "nbformat_minor": 5
}
